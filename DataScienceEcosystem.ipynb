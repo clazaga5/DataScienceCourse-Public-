{
  "metadata": {
    "kernelspec": {
      "name": "python",
      "display_name": "Python (Pyodide)",
      "language": "python"
    },
    "language_info": {
      "codemirror_mode": {
        "name": "python",
        "version": 3
      },
      "file_extension": ".py",
      "mimetype": "text/x-python",
      "name": "python",
      "nbconvert_exporter": "python",
      "pygments_lexer": "ipython3",
      "version": "3.8"
    }
  },
  "nbformat_minor": 4,
  "nbformat": 4,
  "cells": [
    {
      "cell_type": "markdown",
      "source": "# Data Science Ecosystem",
      "metadata": {}
    },
    {
      "cell_type": "markdown",
      "source": "In this notebook, we will summarize data science tools and the ecosystem in which they run.",
      "metadata": {}
    },
    {
      "cell_type": "markdown",
      "source": "**Objectives:**\n\n- List popular coding languages for data science\n- List popular libraries for data science\n- List popular data science tools (development environments)\n- Cite examples of simple arithmetic code in Python",
      "metadata": {}
    },
    {
      "cell_type": "markdown",
      "source": "Popular coding languages for data science include:\n\n1. Python (the best!)\n2. R \n3. Julia\n4. Scala\n5. Java\n6. SQL\n7. C++",
      "metadata": {}
    },
    {
      "cell_type": "markdown",
      "source": "Popular libraries for data science include:\n\n1. Pandas (Python)\n2. Numbpy (Python)\n3. Matplotlib (Python)\n4. Seaborn (Python)\n5. Scikit-learn (Python)\n6. Keras (Python)\n7. Tensorflow (Python)\n8. PyTorch (Python)\n9. Spark (Python)\n10. Vegas (Scala)\n11. ggplot (R)\n12. dplyr (R)\n13. tidyr (R)\n14. caret (R)",
      "metadata": {}
    },
    {
      "cell_type": "markdown",
      "source": "| Data Science Tools |\n|-------------------|\n| Jupyter Notebook / Lab |\n| RStudio |\n| Spyder |",
      "metadata": {}
    },
    {
      "cell_type": "markdown",
      "source": "### Below are some examples of evaluating arithmetic expressions in Python:",
      "metadata": {}
    },
    {
      "cell_type": "code",
      "source": "#This is a simple arithmetic expression to multiply and add intergers\n\nprint((3*4)+5)",
      "metadata": {
        "trusted": true
      },
      "outputs": [
        {
          "name": "stdout",
          "text": "17\n",
          "output_type": "stream"
        }
      ],
      "execution_count": 3
    },
    {
      "cell_type": "code",
      "source": "#This code converts 200 minutes into hours by dividing by 60\n\nprint(200/60, \"hours\")",
      "metadata": {
        "trusted": true
      },
      "outputs": [
        {
          "name": "stdout",
          "text": "3.3333333333333335 hours\n",
          "output_type": "stream"
        }
      ],
      "execution_count": 5
    },
    {
      "cell_type": "markdown",
      "source": "## Author\nChris Lazaga",
      "metadata": {}
    },
    {
      "cell_type": "code",
      "source": "",
      "metadata": {
        "trusted": true
      },
      "outputs": [],
      "execution_count": null
    }
  ]
}